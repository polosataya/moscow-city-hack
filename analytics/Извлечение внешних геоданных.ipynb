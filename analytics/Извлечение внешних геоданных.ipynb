{
 "cells": [
  {
   "cell_type": "code",
   "execution_count": 1,
   "metadata": {},
   "outputs": [],
   "source": [
    "import numpy as np\n",
    "import pandas as pd\n",
    "from sklearn.neighbors import NearestNeighbors"
   ]
  },
  {
   "cell_type": "code",
   "execution_count": 2,
   "metadata": {},
   "outputs": [
    {
     "data": {
      "text/html": [
       "<div>\n",
       "<style scoped>\n",
       "    .dataframe tbody tr th:only-of-type {\n",
       "        vertical-align: middle;\n",
       "    }\n",
       "\n",
       "    .dataframe tbody tr th {\n",
       "        vertical-align: top;\n",
       "    }\n",
       "\n",
       "    .dataframe thead th {\n",
       "        text-align: right;\n",
       "    }\n",
       "</style>\n",
       "<table border=\"1\" class=\"dataframe\">\n",
       "  <thead>\n",
       "    <tr style=\"text-align: right;\">\n",
       "      <th></th>\n",
       "      <th>ap_mac</th>\n",
       "      <th>lat</th>\n",
       "      <th>lon</th>\n",
       "      <th>Субъект</th>\n",
       "    </tr>\n",
       "  </thead>\n",
       "  <tbody>\n",
       "    <tr>\n",
       "      <th>0</th>\n",
       "      <td>3420E31780D0</td>\n",
       "      <td>55.721146</td>\n",
       "      <td>37.606163</td>\n",
       "      <td>Якиманка</td>\n",
       "    </tr>\n",
       "    <tr>\n",
       "      <th>1</th>\n",
       "      <td>8CFE74212CD0</td>\n",
       "      <td>55.737167</td>\n",
       "      <td>37.623783</td>\n",
       "      <td>Якиманка</td>\n",
       "    </tr>\n",
       "  </tbody>\n",
       "</table>\n",
       "</div>"
      ],
      "text/plain": [
       "         ap_mac        lat        lon   Субъект\n",
       "0  3420E31780D0  55.721146  37.606163  Якиманка\n",
       "1  8CFE74212CD0  55.737167  37.623783  Якиманка"
      ]
     },
     "execution_count": 2,
     "metadata": {},
     "output_type": "execute_result"
    }
   ],
   "source": [
    "#данные по уникальным точкам\n",
    "uniq_point = pd.read_csv('data/uniq_point.csv', sep = ',')\n",
    "uniq_point.head(2)"
   ]
  },
  {
   "cell_type": "code",
   "execution_count": 3,
   "metadata": {},
   "outputs": [],
   "source": [
    "#наши точки\n",
    "X_zone = uniq_point[['lat','lon']].values"
   ]
  },
  {
   "cell_type": "code",
   "execution_count": 4,
   "metadata": {},
   "outputs": [],
   "source": [
    "#функция для нахождения блюжайших точек в радиусе\n",
    "def r_neighbors(X_train, r=0.01):\n",
    "    #0.01 - 1 км\n",
    "    neigh = NearestNeighbors(n_neighbors=10, radius=r)\n",
    "    neigh.fit(X_train)\n",
    "    distances, indexes = neigh.radius_neighbors(X_zone, r)\n",
    "    return np.array([len(x) for x in indexes])"
   ]
  },
  {
   "cell_type": "code",
   "execution_count": 5,
   "metadata": {},
   "outputs": [],
   "source": [
    "#туалеты\n",
    "toilet = pd.read_csv('геоданные/842_norm/842.csv', sep = ';', index_col=0)\n",
    "toilet.columns = ['ADDRESS', 'REGIME', 'AVAILABIL', 'LON', 'LAT', 'GLOBALID']\n",
    "toilet['LON'] = toilet['LON'].str.replace(\"'\", \"\").str.replace(\",\", \".\").astype(float)\n",
    "toilet['LAT'] = toilet['LAT'].str.replace(\"'\", \"\").str.replace(\",\", \".\").astype(float)\n",
    "#количество туалетов в километровом радуиусе\n",
    "X_train = toilet[['LAT', 'LON']].values\n",
    "uniq_point['toilet'] = r_neighbors(X_train, r=0.01)"
   ]
  },
  {
   "cell_type": "code",
   "execution_count": 6,
   "metadata": {},
   "outputs": [],
   "source": [
    "#торговля и общепит стационарные\n",
    "riteil = pd.read_csv('геоданные/586_norm/586.csv', sep = ';', index_col=0)\n",
    "riteil.columns = ['NAME', 'ADDRESS', 'lat', 'lon', 'NAME_OPF', 'LIC_SERNUM', 'LIC_START', 'LIC_STOP','LIC_STATUS']\n",
    "#количество торговых точек и общепита в радиусе 1 км\n",
    "X_train = riteil[['lat', 'lon']].values\n",
    "uniq_point['riteil'] = r_neighbors(X_train, r=0.01)"
   ]
  },
  {
   "cell_type": "code",
   "execution_count": 7,
   "metadata": {},
   "outputs": [],
   "source": [
    "#бытовые услуги\n",
    "service = pd.read_excel('геоданные/быт_усл-4272-2021-06-09.xlsx')\n",
    "#количество точек бытовых в радиусе 1 км\n",
    "X_train = service[['Latitude_WGS84', 'Longitude_WGS84']].values\n",
    "uniq_point['service'] = r_neighbors(X_train, r=0.01)"
   ]
  },
  {
   "cell_type": "code",
   "execution_count": 8,
   "metadata": {},
   "outputs": [],
   "source": [
    "#станции метро\n",
    "metro = pd.read_csv('геоданные/624_norm/624.csv', sep = ';', index_col=0)\n",
    "#количество станций метро в радиусе 1 км\n",
    "X_train = metro[['LAT', 'LON']].values\n",
    "uniq_point['metro'] = r_neighbors(X_train, r=0.01)"
   ]
  },
  {
   "cell_type": "code",
   "execution_count": 9,
   "metadata": {},
   "outputs": [],
   "source": [
    "#объекты для аренды\n",
    "arenda = pd.read_csv('геоданные/1113_norm/1113.csv', sep = ';', index_col=0)\n",
    "#количество свободных помещений в радиусе 5 км\n",
    "X_train = arenda[['LAT', 'LON']].values\n",
    "uniq_point['arenda'] = r_neighbors(X_train, r=0.05)"
   ]
  },
  {
   "cell_type": "code",
   "execution_count": 10,
   "metadata": {},
   "outputs": [],
   "source": [
    "#клубы\n",
    "club = pd.read_csv('геоданные/493_norm/493.csv', sep = ';', index_col=0)\n",
    "#количество клубов в радиусе 2 км\n",
    "X_train = club[['LAT', 'LON']].values\n",
    "uniq_point['club'] = r_neighbors(X_train, r=0.02)"
   ]
  },
  {
   "cell_type": "code",
   "execution_count": 11,
   "metadata": {},
   "outputs": [],
   "source": [
    "#больницы\n",
    "med = pd.read_csv('геоданные/502_norm/502.csv', sep = ';', index_col=0)\n",
    "#количество больниц в радиусе 5 км\n",
    "X_train = med[['LAT', 'LON']].values\n",
    "uniq_point['med'] = r_neighbors(X_train, r=0.05)"
   ]
  },
  {
   "cell_type": "code",
   "execution_count": 12,
   "metadata": {},
   "outputs": [],
   "source": [
    "#ветбольницы\n",
    "vet = pd.read_csv('геоданные/1193_norm/1193.csv', sep = ';', index_col=0)\n",
    "vet['LON'] = vet['LON'].str.replace(\"'\", \"\").str.replace(\",\", \".\").astype(float)\n",
    "vet['LAT'] = vet['LAT'].str.replace(\"'\", \"\").str.replace(\",\", \".\").astype(float)\n",
    "#количество ветлечебниц в радиусе 5 км\n",
    "X_train = vet[['LAT', 'LON']].values\n",
    "uniq_point['vet'] = r_neighbors(X_train, r=0.05)"
   ]
  },
  {
   "cell_type": "code",
   "execution_count": 13,
   "metadata": {},
   "outputs": [],
   "source": [
    "#стоматологи\n",
    "stomat = pd.read_csv('геоданные/518_norm/518.csv', sep = ';', index_col=0)\n",
    "#количество стоматологий в радиусе 5 км\n",
    "X_train = stomat[['LAT', 'LON']].values\n",
    "uniq_point['stomat'] = r_neighbors(X_train, r=0.05)"
   ]
  },
  {
   "cell_type": "code",
   "execution_count": 14,
   "metadata": {},
   "outputs": [
    {
     "data": {
      "text/html": [
       "<div>\n",
       "<style scoped>\n",
       "    .dataframe tbody tr th:only-of-type {\n",
       "        vertical-align: middle;\n",
       "    }\n",
       "\n",
       "    .dataframe tbody tr th {\n",
       "        vertical-align: top;\n",
       "    }\n",
       "\n",
       "    .dataframe thead th {\n",
       "        text-align: right;\n",
       "    }\n",
       "</style>\n",
       "<table border=\"1\" class=\"dataframe\">\n",
       "  <thead>\n",
       "    <tr style=\"text-align: right;\">\n",
       "      <th></th>\n",
       "      <th>ap_mac</th>\n",
       "      <th>lat</th>\n",
       "      <th>lon</th>\n",
       "      <th>Субъект</th>\n",
       "      <th>toilet</th>\n",
       "      <th>riteil</th>\n",
       "      <th>service</th>\n",
       "      <th>metro</th>\n",
       "      <th>arenda</th>\n",
       "      <th>club</th>\n",
       "      <th>med</th>\n",
       "      <th>vet</th>\n",
       "      <th>stomat</th>\n",
       "    </tr>\n",
       "  </thead>\n",
       "  <tbody>\n",
       "    <tr>\n",
       "      <th>0</th>\n",
       "      <td>3420E31780D0</td>\n",
       "      <td>55.721146</td>\n",
       "      <td>37.606163</td>\n",
       "      <td>Якиманка</td>\n",
       "      <td>2</td>\n",
       "      <td>51</td>\n",
       "      <td>80</td>\n",
       "      <td>2</td>\n",
       "      <td>3</td>\n",
       "      <td>1</td>\n",
       "      <td>2</td>\n",
       "      <td>4</td>\n",
       "      <td>8</td>\n",
       "    </tr>\n",
       "    <tr>\n",
       "      <th>1</th>\n",
       "      <td>8CFE74212CD0</td>\n",
       "      <td>55.737167</td>\n",
       "      <td>37.623783</td>\n",
       "      <td>Якиманка</td>\n",
       "      <td>2</td>\n",
       "      <td>147</td>\n",
       "      <td>132</td>\n",
       "      <td>4</td>\n",
       "      <td>2</td>\n",
       "      <td>3</td>\n",
       "      <td>2</td>\n",
       "      <td>3</td>\n",
       "      <td>8</td>\n",
       "    </tr>\n",
       "  </tbody>\n",
       "</table>\n",
       "</div>"
      ],
      "text/plain": [
       "         ap_mac        lat        lon   Субъект  toilet  riteil  service  \\\n",
       "0  3420E31780D0  55.721146  37.606163  Якиманка       2      51       80   \n",
       "1  8CFE74212CD0  55.737167  37.623783  Якиманка       2     147      132   \n",
       "\n",
       "   metro  arenda  club  med  vet  stomat  \n",
       "0      2       3     1    2    4       8  \n",
       "1      4       2     3    2    3       8  "
      ]
     },
     "execution_count": 14,
     "metadata": {},
     "output_type": "execute_result"
    }
   ],
   "source": [
    "uniq_point.head(2)"
   ]
  },
  {
   "cell_type": "code",
   "execution_count": 15,
   "metadata": {},
   "outputs": [],
   "source": [
    "uniq_point[['ap_mac', 'toilet', 'metro', 'arenda', 'riteil', 'service', 'club', 'med', 'vet', 'stomat']].to_csv('data/df_geo.csv', index=False)"
   ]
  },
  {
   "cell_type": "code",
   "execution_count": null,
   "metadata": {},
   "outputs": [],
   "source": []
  }
 ],
 "metadata": {
  "kernelspec": {
   "display_name": "Python 3",
   "language": "python",
   "name": "python3"
  },
  "language_info": {
   "codemirror_mode": {
    "name": "ipython",
    "version": 3
   },
   "file_extension": ".py",
   "mimetype": "text/x-python",
   "name": "python",
   "nbconvert_exporter": "python",
   "pygments_lexer": "ipython3",
   "version": "3.8.3"
  }
 },
 "nbformat": 4,
 "nbformat_minor": 4
}
